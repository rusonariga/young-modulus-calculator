{
  "nbformat": 4,
  "nbformat_minor": 0,
  "metadata": {
    "colab": {
      "name": "Young_modulus_calculator_base.ipynb",
      "provenance": [],
      "include_colab_link": true
    },
    "kernelspec": {
      "display_name": "Python 3",
      "name": "python3"
    },
    "language_info": {
      "name": "python"
    }
  },
  "cells": [
    {
      "cell_type": "markdown",
      "metadata": {
        "id": "view-in-github",
        "colab_type": "text"
      },
      "source": [
        "<a href=\"https://colab.research.google.com/github/rusonariga/young-modulus-calculator/blob/main/Young_modulus_calculator_base.ipynb\" target=\"_parent\"><img src=\"https://colab.research.google.com/assets/colab-badge.svg\" alt=\"Open In Colab\"/></a>"
      ]
    },
    {
      "cell_type": "markdown",
      "metadata": {
        "id": "tNgLwrq3Tyw1"
      },
      "source": [
        "# <h1 align=\"center\"><i>Young's modulus calculation</i></h1>\n",
        "\n",
        "This notebook will be used to calculate the Young module from different samples meassured in laboratory.\n",
        "\n",
        "$$\\sigma = E \\Delta l$$\n",
        "\n",
        "where $\\sigma = F/A$"
      ]
    },
    {
      "cell_type": "markdown",
      "metadata": {
        "id": "SzFdo5i-A8qw"
      },
      "source": [
        "##<h2>Importing libraries</h2>"
      ]
    },
    {
      "cell_type": "code",
      "metadata": {
        "id": "vLSRt1_RVWD9"
      },
      "source": [
        "# Import libraries\n",
        "from google.colab import files\n",
        "import numpy as np\n",
        "import pandas as pd\n",
        "import os\n",
        "import matplotlib.pyplot as plt\n",
        "from scipy.stats import linregress\n",
        "from scipy.stats import describe\n",
        "import warnings\n",
        "from tqdm.notebook import tqdm\n",
        "warnings.filterwarnings('ignore')"
      ],
      "execution_count": null,
      "outputs": []
    },
    {
      "cell_type": "markdown",
      "metadata": {
        "id": "XPH6dyvK_eKN"
      },
      "source": [
        "##<h2>Setting the notebook</h2>\n"
      ]
    },
    {
      "cell_type": "markdown",
      "metadata": {
        "id": "y3LL3-MvOerS"
      },
      "source": [
        "###<h3>Create folders</h3> \n",
        "Before start running the script, go to left bar and inside <code>content</code> create 2 folders with the following names:\n",
        "<ul><li>data</li><li>results</li>"
      ]
    },
    {
      "cell_type": "markdown",
      "metadata": {
        "id": "BXfE9wOrNEuQ"
      },
      "source": [
        "or run the following cell"
      ]
    },
    {
      "cell_type": "code",
      "metadata": {
        "colab": {
          "base_uri": "https://localhost:8080/"
        },
        "id": "8xaVbcVx71HM",
        "outputId": "a09e7683-669b-4813-9fa5-9ee88fa0eee9"
      },
      "source": [
        "!pwd\n",
        "\n",
        "if os.path.exists('data'):\n",
        "  if os.path.exists('results'):\n",
        "    if os.path.exists('figures'):\n",
        "      print(\"Set up ready to upload files\")\n",
        "    else:\n",
        "      !mkdir figures\n",
        "  else:\n",
        "    !mkdir results figures\n",
        "else:\n",
        "  !mkdir data results figures"
      ],
      "execution_count": null,
      "outputs": [
        {
          "output_type": "stream",
          "text": [
            "/content\n",
            "Set up ready to upload files\n"
          ],
          "name": "stdout"
        }
      ]
    },
    {
      "cell_type": "markdown",
      "metadata": {
        "id": "Q0pcpLQzOuBG"
      },
      "source": [
        "###<h3>Upload data</h3>\n",
        "Upload datasets to <code>content/data</code> folder"
      ]
    },
    {
      "cell_type": "code",
      "metadata": {
        "id": "V0_MPNS5PEpP",
        "colab": {
          "resources": {
            "http://localhost:8080/nbextensions/google.colab/files.js": {
              "data": "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",
              "ok": true,
              "headers": [
                [
                  "content-type",
                  "application/javascript"
                ]
              ],
              "status": 200,
              "status_text": ""
            }
          },
          "base_uri": "https://localhost:8080/",
          "height": 123
        },
        "outputId": "59916465-c99d-4876-e2fb-433f0f224612"
      },
      "source": [
        "%cd data/\n",
        "files.upload()\n",
        "%cd ..\n",
        "!pwd"
      ],
      "execution_count": null,
      "outputs": [
        {
          "output_type": "stream",
          "text": [
            "/content/data\n"
          ],
          "name": "stdout"
        },
        {
          "output_type": "display_data",
          "data": {
            "text/html": [
              "\n",
              "     <input type=\"file\" id=\"files-10e15272-4050-4c85-be7f-8d81119e2645\" name=\"files[]\" multiple disabled\n",
              "        style=\"border:none\" />\n",
              "     <output id=\"result-10e15272-4050-4c85-be7f-8d81119e2645\">\n",
              "      Upload widget is only available when the cell has been executed in the\n",
              "      current browser session. Please rerun this cell to enable.\n",
              "      </output>\n",
              "      <script src=\"/nbextensions/google.colab/files.js\"></script> "
            ],
            "text/plain": [
              "<IPython.core.display.HTML object>"
            ]
          },
          "metadata": {
            "tags": []
          }
        },
        {
          "output_type": "stream",
          "text": [
            "Saving VG_T_ISO_25_0 to VG_T_ISO_25_0 (1)\n",
            "/content\n",
            "/content\n"
          ],
          "name": "stdout"
        }
      ]
    },
    {
      "cell_type": "markdown",
      "metadata": {
        "id": "Mq7CXvjAVTHg"
      },
      "source": [
        "###<h3>Data import from uploaded files</h3>"
      ]
    },
    {
      "cell_type": "code",
      "metadata": {
        "id": "3iDQhDU3ip7V"
      },
      "source": [
        "# Manual upload file and read\n",
        "folder = \"/content/data/\"\n",
        "# file = \"VG_T_ASTM_60_30\"\n",
        "file = \"VG_T_ISO_25_0\"\n",
        "\n",
        "data = pd.read_csv(folder+file,delim_whitespace=True,header=None)\n",
        "# modify following definition depending the input dataset\n",
        "data.columns = [\"EXTENSION [mm]\", \"TIME [s]\", \"LOAD [kgf]\", \"CALIBRATED WIDTH [mm]\", \n",
        "                \"CALIBRATED HEIGHT [mm]\",\"CALIBRATED LENGTH [mm]\"]"
      ],
      "execution_count": null,
      "outputs": []
    },
    {
      "cell_type": "code",
      "metadata": {
        "id": "a_saEzLt2Gnm"
      },
      "source": [
        "# We extract data\n",
        "width = data[\"CALIBRATED WIDTH [mm]\"][0]      # In mm\n",
        "height = data[\"CALIBRATED HEIGHT [mm]\"][0]    # In mm\n",
        "l0 = data[\"CALIBRATED LENGTH [mm]\"][0]        # in mm\n",
        "\n",
        "# We extract the length and load, last 2 values are discarded \n",
        "l = data[\"EXTENSION [mm]\"].to_numpy()[:-2]             # stroke displacement In mm\n",
        "F = data[\"LOAD [kgf]\"].to_numpy()[:-2]                  # applied load In kgf\n"
      ],
      "execution_count": null,
      "outputs": []
    },
    {
      "cell_type": "code",
      "metadata": {
        "id": "m8ZnJ4mmWPji"
      },
      "source": [
        "# We convert from these units to SI units\n",
        "mm2m = 1e-3\n",
        "kgf2N = 9.81\n",
        "Pa2MPa = 1e-6\n",
        "MPa2GPa = 1e-3 \n",
        "\n",
        "# gage geometry conversion\n",
        "width = width*mm2m\n",
        "height = height*mm2m\n",
        "l0 = l0*mm2m \n",
        "\n",
        "# test measurements conversion\n",
        "l = l*mm2m              # l in m\n",
        "F = F*kgf2N             # F in N"
      ],
      "execution_count": null,
      "outputs": []
    },
    {
      "cell_type": "markdown",
      "metadata": {
        "id": "FgjlfktMZeZP"
      },
      "source": [
        "We compute the stress as:\n",
        "\n",
        "$\\sigma = \\frac{F}{w\\times h}$"
      ]
    },
    {
      "cell_type": "code",
      "metadata": {
        "id": "-OW1YJ7WYiW5"
      },
      "source": [
        "# We compute sigma\n",
        "\n",
        "stress = F/(width*height)\n",
        "\n",
        "# We conver stress to MPa\n",
        "\n",
        "stress = stress*Pa2MPa"
      ],
      "execution_count": null,
      "outputs": []
    },
    {
      "cell_type": "markdown",
      "metadata": {
        "id": "Y0xpkoXoXPcC"
      },
      "source": [
        "We compute the strain as:\n",
        "\n",
        "$ strain = \\frac{l}{l_0}$\n"
      ]
    },
    {
      "cell_type": "code",
      "metadata": {
        "id": "6IHaMwKyYq8F"
      },
      "source": [
        "strain = l/l0        "
      ],
      "execution_count": null,
      "outputs": []
    },
    {
      "cell_type": "markdown",
      "metadata": {
        "id": "Yfg5wwFZZplb"
      },
      "source": [
        "## <h2> Plots of test dataset </h2>\n",
        "\n",
        "Here we plot raw data as received from measurements, units converted to SI"
      ]
    },
    {
      "cell_type": "markdown",
      "metadata": {
        "id": "cII4mlipUcUY"
      },
      "source": [
        "###<h3> F vs. l </h3>\n",
        "Stroke load vs stroke displacement "
      ]
    },
    {
      "cell_type": "code",
      "metadata": {
        "colab": {
          "base_uri": "https://localhost:8080/",
          "height": 295
        },
        "id": "oKqZb95RVJsc",
        "outputId": "def6a673-eb3d-4cfd-ac99-82a187dde28f"
      },
      "source": [
        "label = file + '\\ngage width = {}mm \\ngage height = {}mm \\ngage length = {}mm' \\\n",
        "        .format(data[\"CALIBRATED WIDTH [mm]\"][0],\n",
        "                data[\"CALIBRATED HEIGHT [mm]\"][0],\n",
        "                data[\"CALIBRATED LENGTH [mm]\"][0])\n",
        "plt.plot(l,F,label= label,color='b')\n",
        "plt.xlabel(\"Lenght [m]\")\n",
        "plt.ylabel(\"Load [N]\")\n",
        "\n",
        "plt.legend()\n",
        "plt.title('Load vs stroke displacement')\n",
        "plt.show()"
      ],
      "execution_count": null,
      "outputs": [
        {
          "output_type": "display_data",
          "data": {
            "image/png": "[encoded data removed]",
            "text/plain": [
              "<Figure size 432x288 with 1 Axes>"
            ]
          },
          "metadata": {
            "tags": [],
            "needs_background": "light"
          }
        }
      ]
    },
    {
      "cell_type": "markdown",
      "metadata": {
        "id": "i8U2x1vQVje7"
      },
      "source": [
        "###<h3>Plot for $\\sigma$ vs. $strain$</h3>"
      ]
    },
    {
      "cell_type": "code",
      "metadata": {
        "colab": {
          "base_uri": "https://localhost:8080/",
          "height": 295
        },
        "id": "TP9d9rKYZlyr",
        "outputId": "68ee843d-9d91-4ec9-f953-27546e3cbeab"
      },
      "source": [
        "label = file + '\\ngage width = {}mm \\ngage height = {}mm \\ngage length = {}mm' \\\n",
        "        .format(data[\"CALIBRATED WIDTH [mm]\"][0],\n",
        "                data[\"CALIBRATED HEIGHT [mm]\"][0],\n",
        "                data[\"CALIBRATED LENGTH [mm]\"][0])\n",
        "plt.plot(strain,stress,label=label,color='b')\n",
        "plt.xlabel(\"Strain\")\n",
        "plt.ylabel(\"$\\sigma$ [MPa]\")\n",
        "plt.legend()\n",
        "plt.title('Stress vs strain')\n",
        "plt.show()"
      ],
      "execution_count": null,
      "outputs": [
        {
          "output_type": "display_data",
          "data": {
            "image/png": "[encoded data removed]",
            "text/plain": [
              "<Figure size 432x288 with 1 Axes>"
            ]
          },
          "metadata": {
            "tags": [],
            "needs_background": "light"
          }
        }
      ]
    },
    {
      "cell_type": "markdown",
      "metadata": {
        "id": "NgRnyNtKy5V2"
      },
      "source": [
        "##<h2> Proportional stress zone</h2>\n",
        "\n",
        "In order to calculate the proportional stress ($\\sigma_p$) withing the range of values of thresh, an upper and lower value are given in function of proportion to the maximum stress ($\\sigma_{max}$). Recommended values are 30 and 50."
      ]
    },
    {
      "cell_type": "code",
      "metadata": {
        "colab": {
          "base_uri": "https://localhost:8080/",
          "height": 295
        },
        "id": "2y-OOmRQy95I",
        "outputId": "ec079395-77cb-4f99-911f-17ab91a5fd69"
      },
      "source": [
        "stress_prop_lim_low = 30                                   # lower % position of proportionality stress to max stress\n",
        "stress_prop_lim_upp = 50                                   # upper % position of proportionality stress to max stress\n",
        "\n",
        "stress_max = stress.max()\n",
        "strain_stress_max = np.mean(strain[stress == stress_max])\n",
        "\n",
        "stress_prop_low = stress_max * stress_prop_lim_low/100\n",
        "strain_stress_prop_low = np.min(strain[stress>stress_prop_low])\n",
        "\n",
        "stress_prop_upp = stress_max * stress_prop_lim_upp/100\n",
        "strain_stress_prop_upp = np.min(strain[stress>stress_prop_upp])\n",
        "\n",
        "plt.plot(strain,stress,label=file,color='b')\n",
        "plt.plot(strain_stress_max,stress_max,\"o\",color='r',label=r'$\\sigma_{max}$ = 'f'{stress_max:0.2f}')\n",
        "plt.plot(strain_stress_prop_upp,stress_prop_upp ,\"*\",color='r',\n",
        "         label=r'$\\sigma_{p-max}$ = 'f'{stress_prop_lim_upp/100} 'r'$\\sigma_{max}= $'f'{stress_prop_upp:0.2f}')\n",
        "plt.plot(strain_stress_prop_low,stress_prop_low,\"x\",color='r',\n",
        "         label=r'$\\sigma_{p-min}$ = 'f'{stress_prop_lim_low/100} 'r'$\\sigma_{max}= $'f'{stress_prop_low:0.2f}')\n",
        "plt.xlabel(\"Strain\")\n",
        "plt.ylabel(r\"$\\sigma$ [MPa]\")\n",
        "plt.title('Proposed proportional study zone')\n",
        "plt.legend(loc=4)\n",
        "plt.show()\n"
      ],
      "execution_count": null,
      "outputs": [
        {
          "output_type": "display_data",
          "data": {
            "image/png": "[encoded data removed]",
            "text/plain": [
              "<Figure size 432x288 with 1 Axes>"
            ]
          },
          "metadata": {
            "tags": [],
            "needs_background": "light"
          }
        }
      ]
    },
    {
      "cell_type": "code",
      "metadata": {
        "colab": {
          "base_uri": "https://localhost:8080/"
        },
        "id": "oN3yF9EdBR3C",
        "outputId": "7d2943ee-3533-4030-9bdc-9e9e0d0c2886"
      },
      "source": [
        "strain_stress_max"
      ],
      "execution_count": null,
      "outputs": [
        {
          "output_type": "execute_result",
          "data": {
            "text/plain": [
              "0.293375"
            ]
          },
          "metadata": {
            "tags": []
          },
          "execution_count": 258
        }
      ]
    },
    {
      "cell_type": "markdown",
      "metadata": {
        "id": "7s5a9vaebwtD"
      },
      "source": [
        "## <h2>Correlation coefficient analisis</h2>\n",
        "\n",
        "We define the correlation coefficient between $\\sigma$ and $l$ as\n",
        "\n",
        "$$corr(s,l) = \\frac{\\int_0^L (s - \\hat s) (l - \\hat l) dx}{\\sqrt{\\sigma_s^2 \\sigma_l^2}} $$\n",
        "\n",
        "where $\\hat A$ means average value in the range.\n",
        "\n",
        "This will define a variable called <code>corr</code> that measures how values from the test deviates from a linear behavior."
      ]
    },
    {
      "cell_type": "code",
      "metadata": {
        "id": "ngfKngnRZ2Q9",
        "colab": {
          "base_uri": "https://localhost:8080/",
          "height": 279
        },
        "outputId": "72560a1e-6fc3-46fe-f3a8-e7a85ca1f066"
      },
      "source": [
        "corr = []\n",
        "for N in range(0,strain.size):\n",
        "    corr.append(np.corrcoef(strain[0:N],stress[0:N])[0,1])\n",
        "\n",
        "corr = np.array(corr)\n",
        "\n",
        "plt.plot(strain,corr, label=\"Correlation coefficient\")\n",
        "plt.xlabel(\"Strain\")\n",
        "plt.ylabel(r\"Correlation coefficient\")\n",
        "plt.ylim(bottom=0.95)\n",
        "plt.legend()\n",
        "plt.show()"
      ],
      "execution_count": null,
      "outputs": [
        {
          "output_type": "display_data",
          "data": {
            "image/png": "[encoded data removed]",
            "text/plain": [
              "<Figure size 432x288 with 1 Axes>"
            ]
          },
          "metadata": {
            "tags": [],
            "needs_background": "light"
          }
        }
      ]
    },
    {
      "cell_type": "markdown",
      "metadata": {
        "id": "qBDcJKdecReS"
      },
      "source": [
        "We impose a criteria: `thresh`. This is a constant that works as bottom line from where correlation coeffiecients greater than it (and so on test data associated to them) are considered to follow an acceptable linear behavior.\n",
        "\n",
        "As seen, the accepted values ($ \\sigma_p$ $area$) are the one that also are included into the proportional zone."
      ]
    },
    {
      "cell_type": "code",
      "metadata": {
        "colab": {
          "base_uri": "https://localhost:8080/",
          "height": 312
        },
        "id": "r6x-2stebGNC",
        "outputId": "5307a1ae-25c7-4d6c-fdd4-b2252b828b9f"
      },
      "source": [
        "# change this value depending on the provided data\n",
        "thresh = 0.998\n",
        "valid = corr >= thresh              #assigns all the corr values greater than thresh\n",
        "\n",
        "strain_corr = strain[valid]        # kept extension values that fits selected thresh \n",
        "stress_corr = stress[valid]        # kept tension values that fits selected thresh \n",
        "\n",
        "\n",
        "# We select stress values within the limits\n",
        "stress_valid = stress_corr[(stress_corr <= stress_prop_upp) &\n",
        "                            (stress_corr >= stress_prop_low)] \n",
        "\n",
        "# We select strain values within the limits\n",
        "strain_valid = strain_corr[(stress_corr <= stress_prop_upp) &\n",
        "                            (stress_corr >= stress_prop_low)] \n",
        "\n",
        "\n",
        "plt.plot(strain,stress,label=file,color='b')\n",
        "plt.plot(strain_corr,stress_corr,color='g',label= f\"Corr > {thresh:0.4f}\")\n",
        "plt.plot(strain_stress_prop_low,stress_prop_low,\"x\",color='r',\n",
        "         label=r'$\\sigma_{p-min}$')\n",
        "plt.plot(strain_stress_prop_upp,stress_prop_upp ,\"*\",color='r',\n",
        "         label=r'$\\sigma_{p-max}$')\n",
        "plt.plot(strain_valid,stress_valid,color='orange',label=r'$\\sigma_{p}$ area')\n",
        "plt.xlabel(\"Strain\")\n",
        "plt.ylabel(r\"$\\sigma$ [MPa]\")\n",
        "plt.title('Selected values over raw data')\n",
        "plt.legend(loc=4)\n",
        "plt.show()\n",
        "\n",
        "# We validate linear correlation\n",
        "print(np.corrcoef(strain_valid, strain_valid)[0,1])"
      ],
      "execution_count": null,
      "outputs": [
        {
          "output_type": "display_data",
          "data": {
            "image/png": "[encoded data removed]",
            "text/plain": [
              "<Figure size 432x288 with 1 Axes>"
            ]
          },
          "metadata": {
            "tags": [],
            "needs_background": "light"
          }
        },
        {
          "output_type": "stream",
          "text": [
            "0.9999999999999998\n"
          ],
          "name": "stdout"
        }
      ]
    },
    {
      "cell_type": "markdown",
      "metadata": {
        "id": "jMU9FpxB8oFW"
      },
      "source": [
        "## <h2>Young modulus and Yield Stress calculation</h2>"
      ]
    },
    {
      "cell_type": "markdown",
      "metadata": {
        "id": "3Yqp1GJCduM3"
      },
      "source": [
        "Standard requires Young's modulus should be calculated between $\\sigma_{80}$ and  $\\sigma_{85}$, the values of sigma for the 80% and 85% of the proportional stress.\n",
        "\n",
        "User should define the target ($\\sigma_{t}$) within the mentioned range."
      ]
    },
    {
      "cell_type": "markdown",
      "metadata": {
        "id": "31PTs4ArfNnD"
      },
      "source": [
        "![young1.png](data:image/png;base64,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)"
      ]
    },
    {
      "cell_type": "code",
      "metadata": {
        "id": "NfL0-nLhc1dF"
      },
      "source": [
        "# we extract the desired values\n",
        "stress_yield0 = np.max(stress_valid)                           # yield stress based on the thresh values\n",
        "\n",
        "strain_stress_yield0 = np.max(strain_valid)                            # strain of yield stress based on the thresh values\n",
        "\n",
        "c_t = 82.5/100                                           # stress target coefficient (70 - 85)\n",
        "\n",
        "strain_t = strain_stress_yield0 * c_t                                         # extension related to the calculated target stress\n",
        "\n",
        "# Select extension values in the neightbour of selected yield stress\n",
        "l_upper = 5/100                                       # upper bound of extension values (min: 2.5 / max:10)\n",
        "l_lower = 5/100                                      # lower bound of extension values (min: 2.5 / max:10)\n",
        "\n",
        "strain_t_u = strain_stress_yield0*(c_t+l_upper)                            # upper extension value related to target stress\n",
        "strain_t_l = strain_stress_yield0*(c_t-l_lower)                            # lower extension value related to target stress\n",
        "\n",
        "s_t = np.interp(strain_t, strain_valid, stress_valid)          # target stresses\n",
        "s_ltu = np.interp(strain_t_u, strain_valid, stress_valid)  \n",
        "s_ltl = np.interp(strain_t_l, strain_valid, stress_valid) "
      ],
      "execution_count": null,
      "outputs": []
    },
    {
      "cell_type": "markdown",
      "metadata": {
        "id": "DAvdNYoXlSae"
      },
      "source": [
        "Select values between both desired limits and find the equation of a line based on linear regression"
      ]
    },
    {
      "cell_type": "code",
      "metadata": {
        "colab": {
          "base_uri": "https://localhost:8080/"
        },
        "id": "7HAGgxQreITS",
        "outputId": "1fa1191f-3675-419c-bf99-f90da8f62a54"
      },
      "source": [
        "select = [(strain_valid > strain_t_l) * (strain_valid < strain_t_u)][0]\n",
        "\n",
        "# We find the best fit to these values\n",
        "fit = linregress(strain_valid[select], stress_valid[select])  # linear regresion to find sl0pe,etc.\n",
        "print(fit)"
      ],
      "execution_count": null,
      "outputs": [
        {
          "output_type": "stream",
          "text": [
            "LinregressResult(slope=256.8935291583026, intercept=2.0873656346808254, rvalue=0.9959398861590638, pvalue=8.629796081222542e-12, stderr=7.342819850658113)\n"
          ],
          "name": "stdout"
        }
      ]
    },
    {
      "cell_type": "code",
      "metadata": {
        "id": "P9eOUgzahYG_",
        "colab": {
          "base_uri": "https://localhost:8080/",
          "height": 295
        },
        "outputId": "e4cbf6e3-698a-4e30-ebde-32e08ce9225d"
      },
      "source": [
        "# We find the crossing point for the x axis of the new linear equation\n",
        "E_zero = -fit[1]/fit[0]\n",
        "\n",
        "# Values of new linear equation to plot\n",
        "Eplot = np.array([E_zero, strain_stress_yield0])\n",
        "\n",
        "# plt.figure(figsize=(10, 8))\n",
        "plt.plot(strain,stress, label=file, color ='b')\n",
        "plt.plot(strain_valid[select],stress_valid[select], \"o\",label=f\"Valid values\",color='g')\n",
        "plt.plot(Eplot, fit[0]*Eplot+fit[1], label=\"Elastic fit\",color='r')\n",
        "plt.plot(E_zero, 0, \"o\",label=\"0'\")\n",
        "plt.xlabel(\"Strain\")\n",
        "plt.ylabel(r\"$\\sigma$ [MPa]\")\n",
        "plt.title(\"Calculated curve fit\")\n",
        "plt.legend(loc=4)\n",
        "plt.show()"
      ],
      "execution_count": null,
      "outputs": [
        {
          "output_type": "display_data",
          "data": {
            "image/png": "[encoded data removed]",
            "text/plain": [
              "<Figure size 432x288 with 1 Axes>"
            ]
          },
          "metadata": {
            "tags": [],
            "needs_background": "light"
          }
        }
      ]
    },
    {
      "cell_type": "markdown",
      "metadata": {
        "id": "XiSMmAbEli30"
      },
      "source": [
        "###<h3>Young's modulus calculation</h3>"
      ]
    },
    {
      "cell_type": "code",
      "metadata": {
        "colab": {
          "base_uri": "https://localhost:8080/",
          "height": 612
        },
        "id": "TvQ6Lo60gaDp",
        "outputId": "f8e32d3c-174f-4ac5-e1c3-35be94d6edcc"
      },
      "source": [
        "# We redefine the distance from the 0' found above\n",
        "x_ltu = strain_t_u - E_zero\n",
        "x_ltl = strain_t_l - E_zero\n",
        "\n",
        "# We compute E\n",
        "E = (s_ltu - s_ltl)/(x_ltu- x_ltl) * MPa2GPa\n",
        "print(f\"{E:0.3e} GPa\")\n",
        "print(f\"{E} GPa\")\n",
        "\n",
        "plastic_l = strain[strain>strain_stress_yield0]\n",
        "plastic_s = stress[strain>strain_stress_yield0]\n",
        "elastic_l = strain[strain<=strain_stress_yield0]\n",
        "elastic_s = fit[0]*elastic_l+fit[1]\n",
        "\n",
        "# plt.figure(figsize=(10, 8))\n",
        "plt.plot(elastic_l,elastic_s,label = file + f\"\\nE = {E:0.5f} GPa\")\n",
        "plt.gca().set_prop_cycle(None)\n",
        "plt.plot(plastic_l,plastic_s)\n",
        "plt.title(\"Final strength plot\")\n",
        "plt.legend(loc=4)\n",
        "plt.xlabel(\"Strain\")\n",
        "plt.ylabel(r'$\\sigma$ [MPa]')\n",
        "plt.show()\n",
        "\n",
        "\n",
        "plastic_l1 = strain[strain>=strain_stress_yield0]+fit[1]/fit[0]\n",
        "plastic_s1 = stress[strain>=strain_stress_yield0]\n",
        "elastic_l1 = np.array([0, plastic_l1.min()])\n",
        "elastic_s1 = fit[0]*elastic_l1 \n",
        "\n",
        "\n",
        "test= np.array([0,0.15])\n",
        "yield_stress = fit[0]*test- 0.002*fit[0]      # set a parallel line placed 0.2% of strain\n",
        "\n",
        "\n",
        "plt.plot(elastic_l1,elastic_s1)\n",
        "plt.gca().set_prop_cycle(None)\n",
        "plt.plot(plastic_l1,plastic_s1)\n",
        "plt.plot(elastic_l,elastic_s,label = file + f\"\\nE = {E:0.5f} GPa\")\n",
        "plt.gca().set_prop_cycle(None)\n",
        "plt.plot(plastic_l,plastic_s)\n",
        "plt.xlabel(\"Strain\")\n",
        "plt.ylabel(r\"$\\sigma$ [MPa]\")\n",
        "plt.ylim(bottom=0, top= 35)\n",
        "plt.legend(loc=4)"
      ],
      "execution_count": null,
      "outputs": [
        {
          "output_type": "stream",
          "text": [
            "2.562e-01 GPa\n",
            "0.25622520175927205 GPa\n"
          ],
          "name": "stdout"
        },
        {
          "output_type": "display_data",
          "data": {
            "image/png": "[encoded data removed]",
            "text/plain": [
              "<Figure size 432x288 with 1 Axes>"
            ]
          },
          "metadata": {
            "tags": [],
            "needs_background": "light"
          }
        },
        {
          "output_type": "execute_result",
          "data": {
            "text/plain": [
              "<matplotlib.legend.Legend at 0x7f75cfa95090>"
            ]
          },
          "metadata": {
            "tags": []
          },
          "execution_count": 264
        },
        {
          "output_type": "display_data",
          "data": {
            "image/png": "[encoded data removed]",
            "text/plain": [
              "<Figure size 432x288 with 1 Axes>"
            ]
          },
          "metadata": {
            "tags": [],
            "needs_background": "light"
          }
        }
      ]
    },
    {
      "cell_type": "markdown",
      "metadata": {
        "id": "A0S5TBOO0S8Z"
      },
      "source": [
        "###<h3>Yield Stress calculation</h3>\n",
        "\n",
        "Based on standards for non-linear materials, final yield stress is determined by the interception of a parallel line to the elastic region located at 0.2% of the origin and the test dataset."
      ]
    },
    {
      "cell_type": "code",
      "metadata": {
        "colab": {
          "base_uri": "https://localhost:8080/",
          "height": 368
        },
        "id": "OTAv9TJN0wGz",
        "outputId": "0db92365-287b-4d1f-fd36-e390c2306406"
      },
      "source": [
        "plastic_l = np.copy(strain[strain>=strain_stress_yield0])+fit[1]/fit[0]\n",
        "plastic_s = np.copy(stress[strain>=strain_stress_yield0])\n",
        "elastic_l = np.array([0, plastic_l.min()])\n",
        "elastic_s = fit[0]*elastic_l \n",
        "\n",
        "strain_tmp = np.concatenate((elastic_l, plastic_l))\n",
        "stress_tmp = np.concatenate((elastic_s, plastic_s))\n",
        "\n",
        "dif = stress_tmp - (fit[0]*strain_tmp- 0.002*fit[0])\n",
        "Imin = []\n",
        "for i in range(len(dif)-2):\n",
        "  if dif[i]*dif[i+1] < 0:\n",
        "    Imin.append(i)\n",
        "val = min(Imin)\n",
        "\n",
        "# ******  We compute Sigma_y  ********************\n",
        "strain_stress_yield = strain_tmp[val]\n",
        "stress_yield = fit[0]*strain_stress_yield- 0.002*fit[0]      \n",
        "\n",
        "\n",
        "# ******  We compute Sigma_max  ********************  \n",
        "stress_max = np.max(stress_tmp)\n",
        "strain_stress_max = np.max(strain_tmp[stress_tmp == stress_max])\n",
        "\n",
        "print(f\"Sigma yield = {stress_yield:0.4f} [MPa] \\nE = {E:0.4f} [GPa]\")\n",
        "\n",
        "# Cleaning data folder\n",
        "%rm -r data/*\n",
        "!pwd\n",
        "\n",
        "# plt.figure(figsize=(10, 8))\n",
        "plt.plot(strain_tmp,stress_tmp,label=file,color='b')\n",
        "plt.plot(strain_tmp[strain_tmp<strain_stress_yield*1.3],\n",
        "         fit[0]*strain_tmp[strain_tmp<strain_stress_yield*1.3]- 0.002*fit[0],\n",
        "         label=\"0.2%\",color='g') # set a parallel line placed 0.2% of strain\n",
        "plt.plot(strain_stress_yield,stress_yield ,\"o\",color='r',label=r'$\\sigma_{y}$'+ f\"= {stress_yield :0.3f} MPa\")\n",
        "plt.xlabel(\"Strain\")\n",
        "plt.ylabel(r\"$\\sigma$ [MPa]\")\n",
        "plt.ylim(bottom=0, top= 35)\n",
        "plt.xlim(right= strain_stress_yield*2)\n",
        "plt.legend(loc=4)"
      ],
      "execution_count": null,
      "outputs": [
        {
          "output_type": "stream",
          "text": [
            "Sigma yield = 14.1871 [MPa] \n",
            "E = 0.2562 [GPa]\n",
            "rm: cannot remove 'data/*': No such file or directory\n",
            "/content\n"
          ],
          "name": "stdout"
        },
        {
          "output_type": "execute_result",
          "data": {
            "text/plain": [
              "<matplotlib.legend.Legend at 0x7f75d0183210>"
            ]
          },
          "metadata": {
            "tags": []
          },
          "execution_count": 273
        },
        {
          "output_type": "display_data",
          "data": {
            "image/png": "[encoded data removed]",
            "text/plain": [
              "<Figure size 432x288 with 1 Axes>"
            ]
          },
          "metadata": {
            "tags": [],
            "needs_background": "light"
          }
        }
      ]
    },
    {
      "cell_type": "code",
      "metadata": {
        "colab": {
          "base_uri": "https://localhost:8080/",
          "height": 296
        },
        "id": "cH4i1l3rkd8g",
        "outputId": "e5a418e9-8b7a-424d-92ec-a43d95a144e7"
      },
      "source": [
        "  # plot result\n",
        "  plt.plot(strain_tmp,stress_tmp,color='b',label=file + f\"\\nE = {E:0.5f} GPa\")\n",
        "  plt.plot(strain_stress_yield,stress_yield ,\"o\",color='r',label=r'$\\sigma_{y}$'+ f\"= {stress_yield :0.3f} MPa\")\n",
        "  plt.plot(strain_stress_max,stress_max,\"x\",color='r',label=r'$\\sigma_{max}$ = 'f'{stress_max:0.2f} MPa')\n",
        "  plt.plot(strain_tmp[-1],stress_tmp[-1],\"*\",color='r',label=r'$\\sigma_{ult}$ = 'f'{stress_tmp[-1]:0.2f} MPa')\n",
        "  plt.xlabel(\"Strain\") \n",
        "  plt.ylabel(r\"$\\sigma$ [MPa]\")\n",
        "  plt.legend(loc=4)\n",
        "\n",
        "  "
      ],
      "execution_count": null,
      "outputs": [
        {
          "output_type": "execute_result",
          "data": {
            "text/plain": [
              "<matplotlib.legend.Legend at 0x7f75cfe64e50>"
            ]
          },
          "metadata": {
            "tags": []
          },
          "execution_count": 275
        },
        {
          "output_type": "display_data",
          "data": {
            "image/png": "[encoded data removed]",
            "text/plain": [
              "<Figure size 432x288 with 1 Axes>"
            ]
          },
          "metadata": {
            "tags": [],
            "needs_background": "light"
          }
        }
      ]
    },
    {
      "cell_type": "markdown",
      "metadata": {
        "id": "H30VuSTzIuz-"
      },
      "source": [
        "#<h1>Updating dataframe and saving</h1>"
      ]
    },
    {
      "cell_type": "markdown",
      "metadata": {
        "id": "9Pv4NszW25Il"
      },
      "source": [
        "Calculated information is appended to the original dataset and saved as \"csv\" into <code>results</code> ."
      ]
    },
    {
      "cell_type": "code",
      "metadata": {
        "id": "AdEARY1fCqoE",
        "colab": {
          "base_uri": "https://localhost:8080/"
        },
        "outputId": "a1803107-afb9-49cd-8ee8-099802a54e26"
      },
      "source": [
        "# Create dataframe of results\n",
        "results_columns=[\"EXTENSION [m]\",\"LOAD [kgf]\",\"STRESS [MPa]\",\"STRAIN\",\"CALIBRATED WIDTH [mm]\",\n",
        "                 \"CALIBRATED HEIGHT [mm]\",\"CALIBRATED LENGTH [mm]\",\"E [GPa]\",\"YIELD STRAIN\",\n",
        "                 \"YIELD STRESS [MPa]\",\"ULTIMATE STRESS [MPa]\"]\n",
        "results = pd.DataFrame(np.nan, index = np.arange(len(l)), columns=results_columns)\n",
        "\n",
        "s = pd.Series(stress_tmp)\n",
        "s1 = pd.Series(s, index=results.index)\n",
        "st = pd.Series(strain_tmp)\n",
        "st1 = pd.Series(st, index=results.index)\n",
        "\n",
        "results[\"EXTENSION [m]\"] = l\n",
        "results[\"LOAD [kgf]\"] = F\n",
        "results[\"STRESS [MPa]\"] = s1\n",
        "results[\"STRAIN\"] = st1\n",
        "results[\"CALIBRATED WIDTH [mm]\"][0] = width\n",
        "results[\"CALIBRATED HEIGHT [mm]\"][0] = height \n",
        "results[\"CALIBRATED LENGTH [mm]\"][0] = l0\n",
        "results[\"E [GPa]\"][0] = E\n",
        "results[\"YIELD STRAIN\"][0] = strain_stress_yield\n",
        "results[\"YIELD STRESS [MPa]\"][0] = stress_yield\n",
        "results[\"ULTIMATE STRESS [MPa]\"][0] = stress_max\n",
        "print(results)\n",
        "\n",
        "# Saving results into CSV\n",
        "%cd results/\n",
        "results.to_csv(file+\".csv\")\n",
        "%cd .."
      ],
      "execution_count": null,
      "outputs": [
        {
          "output_type": "stream",
          "text": [
            "     EXTENSION [m]  LOAD [kgf]  ...  YIELD STRESS [MPa]  ULTIMATE STRESS [MPa]\n",
            "0         0.000000   12.847196  ...           14.187051              25.785009\n",
            "1         0.000000   12.533845  ...                 NaN                    NaN\n",
            "2         0.000000   12.220503  ...                 NaN                    NaN\n",
            "3         0.000002   12.847196  ...                 NaN                    NaN\n",
            "4         0.000002   12.220503  ...                 NaN                    NaN\n",
            "..             ...         ...  ...                 ...                    ...\n",
            "951       0.005864  706.282349  ...                 NaN                    NaN\n",
            "952       0.005870  706.282349  ...                 NaN                    NaN\n",
            "953       0.005876  706.282349  ...                 NaN                    NaN\n",
            "954       0.005882  705.655608  ...                 NaN                    NaN\n",
            "955       0.005888  705.655608  ...                 NaN                    NaN\n",
            "\n",
            "[956 rows x 11 columns]\n",
            "/content/results\n",
            "/content\n"
          ],
          "name": "stdout"
        }
      ]
    },
    {
      "cell_type": "code",
      "metadata": {
        "colab": {
          "base_uri": "https://localhost:8080/"
        },
        "id": "UD3hCbI1_JeG",
        "outputId": "1dc0fe49-3b49-49aa-991f-75d470418dcc"
      },
      "source": [
        "# Cleaning data folder\n",
        "%rm -r data/*"
      ],
      "execution_count": null,
      "outputs": [
        {
          "output_type": "stream",
          "text": [
            "rm: cannot remove 'data/*': No such file or directory\n"
          ],
          "name": "stdout"
        }
      ]
    },
    {
      "cell_type": "code",
      "metadata": {
        "colab": {
          "base_uri": "https://localhost:8080/"
        },
        "id": "NsjYbco0jks4",
        "outputId": "a5b7b19b-1333-49ee-a779-73e81c96060e"
      },
      "source": [
        "!pwd\n",
        "# %cd .."
      ],
      "execution_count": null,
      "outputs": [
        {
          "output_type": "stream",
          "text": [
            "/content\n"
          ],
          "name": "stdout"
        }
      ]
    },
    {
      "cell_type": "code",
      "metadata": {
        "colab": {
          "base_uri": "https://localhost:8080/"
        },
        "id": "MGVB8jbhjdAT",
        "outputId": "d1032d90-7bfd-4004-c656-081fef6759ce"
      },
      "source": [
        "%rm -r data/*\n",
        "%rm -r figures/*\n",
        "%rm -r results/*"
      ],
      "execution_count": null,
      "outputs": [
        {
          "output_type": "stream",
          "text": [
            "rm: cannot remove 'data/*': No such file or directory\n",
            "rm: cannot remove 'figures/*': No such file or directory\n"
          ],
          "name": "stdout"
        }
      ]
    }
  ]
}